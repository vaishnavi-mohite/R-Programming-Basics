{
  "nbformat": 4,
  "nbformat_minor": 0,
  "metadata": {
    "colab": {
      "provenance": [],
      "authorship_tag": "ABX9TyMZiHAA4o5CZ29Oa+Uqj394",
      "include_colab_link": true
    },
    "kernelspec": {
      "name": "ir",
      "display_name": "R"
    },
    "language_info": {
      "name": "R"
    }
  },
  "cells": [
    {
      "cell_type": "markdown",
      "metadata": {
        "id": "view-in-github",
        "colab_type": "text"
      },
      "source": [
        "<a href=\"https://colab.research.google.com/github/vaishnavi-mohite/R-Programming-Basics/blob/main/R_Programming_basics.ipynb\" target=\"_parent\"><img src=\"https://colab.research.google.com/assets/colab-badge.svg\" alt=\"Open In Colab\"/></a>"
      ]
    },
    {
      "cell_type": "code",
      "execution_count": null,
      "metadata": {
        "colab": {
          "base_uri": "https://localhost:8080/"
        },
        "id": "rVuw79DRehns",
        "outputId": "decd9c44-60f9-4ca6-f6fd-7f7de827bdef"
      },
      "outputs": [
        {
          "output_type": "stream",
          "name": "stdout",
          "text": [
            "10 \n"
          ]
        }
      ],
      "source": [
        "x=10\n",
        "cat(x,'\\n')"
      ]
    },
    {
      "cell_type": "code",
      "source": [
        "x<--6\n",
        "cat(x, '\\n')"
      ],
      "metadata": {
        "colab": {
          "base_uri": "https://localhost:8080/"
        },
        "id": "vtvILNgfeqg0",
        "outputId": "8913fafd-e60a-43ac-a19b-b0df182fe8de"
      },
      "execution_count": null,
      "outputs": [
        {
          "output_type": "stream",
          "name": "stdout",
          "text": [
            "-6 \n"
          ]
        }
      ]
    },
    {
      "cell_type": "code",
      "source": [
        "x <- 32\n",
        "y <- 16\n",
        "res <- x + y\n",
        "cat(res, '\\n')\n",
        "res <- x - y\n",
        "cat(res, '\\n' )\n",
        "res <- x * y\n",
        "cat(res, '\\n')\n",
        "res <- x / y\n",
        "cat(res, '\\n')\n",
        "res <- x %% y\n",
        "cat(res, '\\n')\n",
        "res <- x ^ y\n",
        "cat(res, '\\n')\n",
        "res <- x ** y\n",
        "cat(res, '\\n')\n",
        "res <- -x\n",
        "cat(res, '\\n')\n",
        "res <- x %/% y\n",
        "cat(res, '\\n')"
      ],
      "metadata": {
        "colab": {
          "base_uri": "https://localhost:8080/"
        },
        "id": "HHtdB_wWfId3",
        "outputId": "78b88416-a290-4c59-8a3d-f294a0979494"
      },
      "execution_count": null,
      "outputs": [
        {
          "output_type": "stream",
          "name": "stdout",
          "text": [
            "48 \n",
            "16 \n",
            "512 \n",
            "2 \n",
            "0 \n",
            "1.208926e+24 \n",
            "1.208926e+24 \n",
            "-32 \n",
            "2 \n"
          ]
        }
      ]
    },
    {
      "cell_type": "code",
      "source": [
        "x <- 10\n",
        "res = class(x)\n",
        "cat(res, '\\n')\n",
        "\n",
        "x <- 10L\n",
        "res = class(x)\n",
        "cat(res, '\\n')\n",
        "\n",
        "x <- 10.2L\n",
        "res = class(x)\n",
        "cat(res, '\\n')\n",
        "\n",
        "x <- 'A'\n",
        "res = class(x)\n",
        "cat(res, '\\n')\n",
        "\n",
        "x <- 'Vaishnavi'\n",
        "res = class(x)\n",
        "cat(res, '\\n')\n"
      ],
      "metadata": {
        "id": "FqIDt-GCj2Si",
        "colab": {
          "base_uri": "https://localhost:8080/"
        },
        "outputId": "8139be2d-99ca-41fe-9229-3b83e50285c2"
      },
      "execution_count": 2,
      "outputs": [
        {
          "output_type": "stream",
          "name": "stdout",
          "text": [
            "numeric \n",
            "integer \n",
            "numeric \n",
            "character \n",
            "character \n"
          ]
        }
      ]
    },
    {
      "cell_type": "code",
      "source": [
        " x = c(1,2,3)\n",
        " res = class(x)\n",
        " cat(res, '\\n')\n",
        "\n",
        " x = c(1,2,3,'Hi')\n",
        " res = class(x)\n",
        " cat(res, '\\n')\n",
        "\n",
        " x=c(1,2,3,4)\n",
        " res = class(x)\n",
        " cat(res, '\\n')\n",
        "\n",
        " x <- factor(1,2,3,4)\n",
        " res =class(x)\n",
        " cat(res, '\\n')\n",
        "\n",
        " x1 <- c(1,2,3)\n",
        " x2 <- c(4,5,6)\n",
        " x <- c(x1,x2)\n",
        " res = class(x)\n",
        " cat(res, '\\n')\n",
        "\n"
      ],
      "metadata": {
        "colab": {
          "base_uri": "https://localhost:8080/"
        },
        "id": "An4hs1LY22XF",
        "outputId": "ca381fe1-51d4-4097-acbc-f262f7466b0b"
      },
      "execution_count": null,
      "outputs": [
        {
          "output_type": "stream",
          "name": "stdout",
          "text": [
            "numeric \n",
            "character \n",
            "numeric \n",
            "factor \n",
            "numeric \n"
          ]
        }
      ]
    },
    {
      "cell_type": "code",
      "source": [
        "x[4]\n",
        "x[5]"
      ],
      "metadata": {
        "colab": {
          "base_uri": "https://localhost:8080/",
          "height": 52
        },
        "id": "SsQ0KhWq6uJE",
        "outputId": "921225c5-e4f0-4f33-ab93-8dbc5a79b86c"
      },
      "execution_count": null,
      "outputs": [
        {
          "output_type": "display_data",
          "data": {
            "text/html": [
              "4"
            ],
            "text/markdown": "4",
            "text/latex": "4",
            "text/plain": [
              "[1] 4"
            ]
          },
          "metadata": {}
        },
        {
          "output_type": "display_data",
          "data": {
            "text/html": [
              "5"
            ],
            "text/markdown": "5",
            "text/latex": "5",
            "text/plain": [
              "[1] 5"
            ]
          },
          "metadata": {}
        }
      ]
    },
    {
      "cell_type": "code",
      "source": [
        "x <- list(1,2,3,'Hi')\n",
        "print(x)"
      ],
      "metadata": {
        "colab": {
          "base_uri": "https://localhost:8080/"
        },
        "id": "uvxwH6Q66xDU",
        "outputId": "aefe907c-1a7d-4544-b73b-470449de13f6"
      },
      "execution_count": null,
      "outputs": [
        {
          "output_type": "stream",
          "name": "stdout",
          "text": [
            "[[1]]\n",
            "[1] 1\n",
            "\n",
            "[[2]]\n",
            "[1] 2\n",
            "\n",
            "[[3]]\n",
            "[1] 3\n",
            "\n",
            "[[4]]\n",
            "[1] \"Hi\"\n",
            "\n"
          ]
        }
      ]
    },
    {
      "cell_type": "code",
      "source": [
        "x <- list(\n",
        "     number = c(1,2,3,4),\n",
        "     fruits = c('mango','orange'),\n",
        "     flag = TRUE)\n",
        "     x\n",
        "cat(x$fruits, '\\n')\n",
        "cat(x$number, '\\n')\n",
        "cat(x$flag, '\\n')\n",
        "print(x[1])\n",
        "print(x[2])"
      ],
      "metadata": {
        "colab": {
          "base_uri": "https://localhost:8080/",
          "height": 305
        },
        "id": "wL6PzKul7T0X",
        "outputId": "0c049b2e-f63f-47b4-f5d2-1bc616b32410"
      },
      "execution_count": null,
      "outputs": [
        {
          "output_type": "display_data",
          "data": {
            "text/html": [
              "<dl>\n",
              "\t<dt>$number</dt>\n",
              "\t\t<dd><style>\n",
              ".list-inline {list-style: none; margin:0; padding: 0}\n",
              ".list-inline>li {display: inline-block}\n",
              ".list-inline>li:not(:last-child)::after {content: \"\\00b7\"; padding: 0 .5ex}\n",
              "</style>\n",
              "<ol class=list-inline><li>1</li><li>2</li><li>3</li><li>4</li></ol>\n",
              "</dd>\n",
              "\t<dt>$fruits</dt>\n",
              "\t\t<dd><style>\n",
              ".list-inline {list-style: none; margin:0; padding: 0}\n",
              ".list-inline>li {display: inline-block}\n",
              ".list-inline>li:not(:last-child)::after {content: \"\\00b7\"; padding: 0 .5ex}\n",
              "</style>\n",
              "<ol class=list-inline><li>'mango'</li><li>'orange'</li></ol>\n",
              "</dd>\n",
              "\t<dt>$flag</dt>\n",
              "\t\t<dd>TRUE</dd>\n",
              "</dl>\n"
            ],
            "text/markdown": "$number\n:   1. 1\n2. 2\n3. 3\n4. 4\n\n\n\n$fruits\n:   1. 'mango'\n2. 'orange'\n\n\n\n$flag\n:   TRUE\n\n\n",
            "text/latex": "\\begin{description}\n\\item[\\$number] \\begin{enumerate*}\n\\item 1\n\\item 2\n\\item 3\n\\item 4\n\\end{enumerate*}\n\n\\item[\\$fruits] \\begin{enumerate*}\n\\item 'mango'\n\\item 'orange'\n\\end{enumerate*}\n\n\\item[\\$flag] TRUE\n\\end{description}\n",
            "text/plain": [
              "$number\n",
              "[1] 1 2 3 4\n",
              "\n",
              "$fruits\n",
              "[1] \"mango\"  \"orange\"\n",
              "\n",
              "$flag\n",
              "[1] TRUE\n"
            ]
          },
          "metadata": {}
        },
        {
          "output_type": "stream",
          "name": "stdout",
          "text": [
            "mango orange \n",
            "1 2 3 4 \n",
            "TRUE \n",
            "$number\n",
            "[1] 1 2 3 4\n",
            "\n",
            "$fruits\n",
            "[1] \"mango\"  \"orange\"\n",
            "\n"
          ]
        }
      ]
    },
    {
      "cell_type": "code",
      "source": [
        "add.num <- function(a,b){\n",
        " res <- a + b\n",
        " return (res)\n",
        "}\n",
        "res = add.num(5,6)\n",
        "cat(\"result is:\",res)"
      ],
      "metadata": {
        "colab": {
          "base_uri": "https://localhost:8080/"
        },
        "id": "yyTNoQQd8uHo",
        "outputId": "6c1186f6-0731-4417-90e1-1b7801b257f4"
      },
      "execution_count": null,
      "outputs": [
        {
          "output_type": "stream",
          "name": "stdout",
          "text": [
            "result is: 11"
          ]
        }
      ]
    },
    {
      "cell_type": "code",
      "source": [
        "temp <- 25\n",
        "is_raining = FALSE\n",
        "is_sunny = TRUE\n",
        "if (temp > 30 && is_sunny){\n",
        "  cat(\"Go to sleep\")\n",
        "}else if(temp > 25 || (temp > 25 && is_raining)){\n",
        " cat(\"Sleep otherwise\")\n",
        "}else{\n",
        " cat(\"Go to Goa Beach\")\n",
        " }"
      ],
      "metadata": {
        "colab": {
          "base_uri": "https://localhost:8080/"
        },
        "id": "ok9R9g_s-HU1",
        "outputId": "834509d4-1316-4fda-acdd-a61a3276c1e9"
      },
      "execution_count": null,
      "outputs": [
        {
          "output_type": "stream",
          "name": "stdout",
          "text": [
            "Go to Goa Beach"
          ]
        }
      ]
    },
    {
      "cell_type": "code",
      "source": [
        "x <- list(\n",
        "  name = 'Vaishnavi',\n",
        "  age = 21,\n",
        "  hobbies = c('singing','dancing')\n",
        ")\n",
        "  for (element in x){\n",
        "    print(element)\n",
        "}\n"
      ],
      "metadata": {
        "colab": {
          "base_uri": "https://localhost:8080/"
        },
        "id": "3BLBL48yN14B",
        "outputId": "a6e67033-32c6-4e35-837f-5ef872a3994c"
      },
      "execution_count": null,
      "outputs": [
        {
          "output_type": "stream",
          "name": "stdout",
          "text": [
            "[1] \"Vaishnavi\"\n",
            "[1] 21\n",
            "[1] \"singing\" \"dancing\"\n"
          ]
        }
      ]
    },
    {
      "cell_type": "code",
      "source": [
        "for ( i in 1:10){\n",
        "  print(i)\n",
        "}"
      ],
      "metadata": {
        "colab": {
          "base_uri": "https://localhost:8080/"
        },
        "id": "2HIe4aIfQELs",
        "outputId": "2fc0703a-1c15-4bd4-a8b9-12ab4a0eed0f"
      },
      "execution_count": null,
      "outputs": [
        {
          "output_type": "stream",
          "name": "stdout",
          "text": [
            "[1] 1\n",
            "[1] 2\n",
            "[1] 3\n",
            "[1] 4\n",
            "[1] 5\n",
            "[1] 6\n",
            "[1] 7\n",
            "[1] 8\n",
            "[1] 9\n",
            "[1] 10\n"
          ]
        }
      ]
    },
    {
      "cell_type": "code",
      "source": [
        "for ( i in 1:10){\n",
        "  if (i %% 2 == 0){\n",
        "     next\n",
        "  } else if (i > 5){\n",
        "    break\n",
        "  } else{\n",
        "    print(i)\n",
        "  }\n",
        "}"
      ],
      "metadata": {
        "colab": {
          "base_uri": "https://localhost:8080/"
        },
        "id": "E8FgAPygQXcr",
        "outputId": "f47a983b-3c94-4a65-86a1-17868ece6199"
      },
      "execution_count": null,
      "outputs": [
        {
          "output_type": "stream",
          "name": "stdout",
          "text": [
            "[1] 1\n",
            "[1] 3\n",
            "[1] 5\n"
          ]
        }
      ]
    },
    {
      "cell_type": "code",
      "source": [
        "library(ggplot2)\n",
        "future_value <- function(principal, rate, time){\n",
        "  value <- principal * (1 + rate) ^ time\n",
        "  return (value)\n",
        "}\n",
        "investment <- 10000\n",
        "rate <- 0.08\n",
        "years <- 20\n",
        "value <- future_value(investment, rate, years)\n",
        "cat(value)\n",
        "\n",
        "time_period <- 1:years\n",
        "values <- sapply(time_period, function(t) future_value(investment, rate, t))\n",
        "data <- data.frame(Time= time_period, value=values)\n",
        "ggplot(data, aes(x = Time, y = value)) +\n",
        "  geom_line() +\n",
        "  labs(\n",
        "    x = 'Time (Years)',\n",
        "    y= 'Value',\n",
        "    title = 'Growth of Money'\n",
        "  )"
      ],
      "metadata": {
        "colab": {
          "base_uri": "https://localhost:8080/",
          "height": 454
        },
        "id": "0jqSR_KwRdTI",
        "outputId": "1be842d7-0961-4cf2-a7c0-80dea001dd71"
      },
      "execution_count": null,
      "outputs": [
        {
          "output_type": "stream",
          "name": "stdout",
          "text": [
            "46609.57"
          ]
        },
        {
          "output_type": "display_data",
          "data": {
            "text/plain": [
              "plot without title"
            ],
            "image/png": "[encoded data removed]"
          },
          "metadata": {
            "image/png": {
              "width": 420,
              "height": 420
            }
          }
        }
      ]
    },
    {
      "cell_type": "code",
      "source": [
        "data <- data.frame(\n",
        "  Name = c('Anjali','Tara','Priya'),\n",
        "  Age = c(21,30,23),\n",
        "  Gender= c('Female','Female','Female')\n",
        ")\n",
        "print(data)\n",
        "write.csv(data, 'Data.csv', row.names=FALSE)"
      ],
      "metadata": {
        "colab": {
          "base_uri": "https://localhost:8080/"
        },
        "id": "Q8JqsAuAWiYc",
        "outputId": "cddf971d-3e33-4a23-df3c-4bf48dd96c17"
      },
      "execution_count": null,
      "outputs": [
        {
          "output_type": "stream",
          "name": "stdout",
          "text": [
            "    Name Age Gender\n",
            "1 Anjali  21 Female\n",
            "2   Tara  30 Female\n",
            "3  Priya  23 Female\n"
          ]
        }
      ]
    },
    {
      "cell_type": "code",
      "source": [
        "data <- read.csv('/content/Data.csv')\n",
        "print(data)"
      ],
      "metadata": {
        "colab": {
          "base_uri": "https://localhost:8080/"
        },
        "id": "zd9LYmF5SOsU",
        "outputId": "fb238dc7-fdef-4de7-b476-914aac0540c9"
      },
      "execution_count": null,
      "outputs": [
        {
          "output_type": "stream",
          "name": "stdout",
          "text": [
            "    Name Age Gender\n",
            "1 Anjali  21 Female\n",
            "2   Tara  30 Female\n",
            "3  Priya  23 Female\n"
          ]
        }
      ]
    },
    {
      "cell_type": "code",
      "source": [],
      "metadata": {
        "id": "7c6YDAUPhKsA"
      },
      "execution_count": null,
      "outputs": []
    },
    {
      "cell_type": "code",
      "source": [
        "merged <- merge(df1, df2, by='Id')\n",
        "print(merged)"
      ],
      "metadata": {
        "colab": {
          "base_uri": "https://localhost:8080/"
        },
        "id": "UiFaqQcRgzAe",
        "outputId": "e53a1b61-0f75-4070-a78b-d1b1dbdac865"
      },
      "execution_count": null,
      "outputs": [
        {
          "output_type": "stream",
          "name": "stdout",
          "text": [
            "  Id Name.x Name.y\n",
            "1  1 Laptop Laptop\n",
            "2  2 Tablet Tablet\n",
            "3  3 Mobile Mobile\n"
          ]
        }
      ]
    },
    {
      "cell_type": "code",
      "source": [
        "merged <- rbind(df1, df2)\n",
        "print(merged)"
      ],
      "metadata": {
        "colab": {
          "base_uri": "https://localhost:8080/"
        },
        "id": "SnnETCH9OwG7",
        "outputId": "d3c744ad-7561-4477-bbeb-a7058ba7d951"
      },
      "execution_count": null,
      "outputs": [
        {
          "output_type": "stream",
          "name": "stdout",
          "text": [
            "  Id   Name\n",
            "1  1 Laptop\n",
            "2  2 Tablet\n",
            "3  3 Mobile\n",
            "4  1 Laptop\n",
            "5  2 Tablet\n",
            "6  3 Mobile\n"
          ]
        }
      ]
    },
    {
      "cell_type": "code",
      "source": [
        "data <- data.frame(\n",
        "  Name = c('Anjali','Tara','Priya'),\n",
        "  Age = c(21,30,23),\n",
        "  Gender= c('Female','Female','Female')\n",
        ")\n",
        "sorted <- data[order(data$Age), ]\n",
        "print(sorted)"
      ],
      "metadata": {
        "colab": {
          "base_uri": "https://localhost:8080/"
        },
        "id": "hBRAqgcqiMTL",
        "outputId": "2843b271-d172-4a5d-d266-be21bc0713f1"
      },
      "execution_count": null,
      "outputs": [
        {
          "output_type": "stream",
          "name": "stdout",
          "text": [
            "    Name Age Gender\n",
            "1 Anjali  21 Female\n",
            "3  Priya  23 Female\n",
            "2   Tara  30 Female\n"
          ]
        }
      ]
    },
    {
      "cell_type": "code",
      "source": [
        "data <- data.frame(\n",
        "  Name = c('Anjali','Tara','Priya'),\n",
        "  Age = c(21,30,23),\n",
        "  Gender= c('Female','Female','Female')\n",
        ")\n",
        "sorted <- data[order(data$Name), ]\n",
        "print(sorted)"
      ],
      "metadata": {
        "colab": {
          "base_uri": "https://localhost:8080/"
        },
        "id": "QFo9HUqUife3",
        "outputId": "664ce125-cf6b-478f-9aa6-7e85323d0179"
      },
      "execution_count": null,
      "outputs": [
        {
          "output_type": "stream",
          "name": "stdout",
          "text": [
            "    Name Age Gender\n",
            "1 Anjali  21 Female\n",
            "3  Priya  23 Female\n",
            "2   Tara  30 Female\n"
          ]
        }
      ]
    }
  ]
}